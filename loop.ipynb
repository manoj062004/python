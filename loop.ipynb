{
 "cells": [
  {
   "cell_type": "code",
   "execution_count": 27,
   "id": "4aa6051d",
   "metadata": {},
   "outputs": [
    {
     "name": "stdout",
     "output_type": "stream",
     "text": [
      "0\n",
      "1\n",
      "2\n",
      "3\n",
      "4\n"
     ]
    }
   ],
   "source": [
    "i = 0\n",
    "while i <= 10:\n",
    "    if i == 5:\n",
    "        break\n",
    "    print(i)\n",
    "    i += 1\n"
   ]
  },
  {
   "cell_type": "code",
   "execution_count": 9,
   "id": "d2ba5f1b",
   "metadata": {},
   "outputs": [
    {
     "name": "stdout",
     "output_type": "stream",
     "text": [
      "enter Your Number :8\n",
      "8 * 1  =  8\n",
      "8 * 2  =  16\n",
      "8 * 3  =  24\n",
      "8 * 4  =  32\n",
      "8 * 5  =  40\n",
      "8 * 6  =  48\n",
      "8 * 7  =  56\n",
      "8 * 8  =  64\n",
      "8 * 9  =  72\n",
      "8 * 10  =  80\n"
     ]
    }
   ],
   "source": [
    "x = int(input(\"enter Your Number :\"))\n",
    "for i in range(1,11):\n",
    "    print(x,\"*\",i,\" = \",i*x)"
   ]
  },
  {
   "cell_type": "code",
   "execution_count": null,
   "id": "faec8257",
   "metadata": {},
   "outputs": [],
   "source": []
  },
  {
   "cell_type": "code",
   "execution_count": 20,
   "id": "229518d9",
   "metadata": {},
   "outputs": [
    {
     "name": "stdout",
     "output_type": "stream",
     "text": [
      "6\n"
     ]
    }
   ],
   "source": [
    "list1 = [1, 2, 3]\n",
    "print(sum(list1))"
   ]
  },
  {
   "cell_type": "code",
   "execution_count": 8,
   "id": "a98f878a",
   "metadata": {},
   "outputs": [
    {
     "name": "stdout",
     "output_type": "stream",
     "text": [
      "14\n"
     ]
    }
   ],
   "source": [
    "print(145//10)"
   ]
  },
  {
   "cell_type": "code",
   "execution_count": 25,
   "id": "7175a9b2",
   "metadata": {},
   "outputs": [
    {
     "name": "stdout",
     "output_type": "stream",
     "text": [
      "Enter a number :1234\n",
      "0\n",
      "4\n",
      "43\n",
      "432\n",
      "\n"
     ]
    }
   ],
   "source": [
    "#how to reverse a integer\n",
    "\n",
    "x = int(input(\"Enter a number :\"))\n",
    "rev = 0\n",
    "\n",
    "while(x>=1):\n",
    "    rem = x%10\n",
    "    print(rev)\n",
    "    rev = (rev*10)+rem   #7\n",
    "    x = x//10\n",
    "    \n",
    "    \n",
    "print()\n",
    "    "
   ]
  },
  {
   "cell_type": "code",
   "execution_count": 34,
   "id": "d11369fb",
   "metadata": {},
   "outputs": [
    {
     "name": "stdout",
     "output_type": "stream",
     "text": [
      "Enter a number :1234\n",
      "this is note palindrome 0\n"
     ]
    }
   ],
   "source": [
    "#how to cheak palindrome\n",
    "\n",
    "x = int(input(\"Enter a number :\"))\n",
    "rev = 0\n",
    "temp = x\n",
    "while(x>=1):\n",
    "    rem = x%10\n",
    "    rev = (rev*10)+rem   #7\n",
    "    x = x//10\n",
    "\n",
    "if(rev==temp):\n",
    "    print(\"this is palindrome\",rev)\n",
    "else:\n",
    "    print(\"this is note palindrome\",x)\n",
    "    "
   ]
  },
  {
   "cell_type": "code",
   "execution_count": 16,
   "id": "bdf70f98",
   "metadata": {},
   "outputs": [
    {
     "name": "stdout",
     "output_type": "stream",
     "text": [
      "[1, 5, True, 'hello', 45.32]\n"
     ]
    }
   ],
   "source": [
    "x = [1, 2, True, \"hello\", 45.32]\n",
    "x[1]= 5\n",
    "print(x)"
   ]
  },
  {
   "cell_type": "code",
   "execution_count": 21,
   "id": "9ae08dea",
   "metadata": {},
   "outputs": [
    {
     "name": "stdout",
     "output_type": "stream",
     "text": [
      "[11, 45, 75, 86]\n"
     ]
    }
   ],
   "source": [
    "x = [11,33,55,66,99,75,86]\n",
    "x[1:5] = [45]\n",
    "print(x)"
   ]
  },
  {
   "cell_type": "code",
   "execution_count": 23,
   "id": "d5bd7f54",
   "metadata": {},
   "outputs": [
    {
     "name": "stdout",
     "output_type": "stream",
     "text": [
      "[10, 52, 98, 85, 88, 874, 100]\n"
     ]
    }
   ],
   "source": [
    "y = [10,52,98,85,88,874]\n",
    "y.append(100)\n",
    "print(y)"
   ]
  },
  {
   "cell_type": "code",
   "execution_count": 25,
   "id": "33f7c68d",
   "metadata": {},
   "outputs": [
    {
     "name": "stdout",
     "output_type": "stream",
     "text": [
      "[10, 89, 78, 50, 56, 74, 65, 25, 45]\n"
     ]
    }
   ],
   "source": [
    "r = [10,89,78,56,74,65,25,45]\n",
    "r.insert(3,50)\n",
    "print(r)"
   ]
  },
  {
   "cell_type": "code",
   "execution_count": 28,
   "id": "191f7dae",
   "metadata": {},
   "outputs": [
    {
     "name": "stdout",
     "output_type": "stream",
     "text": [
      "[456, 4564, 456, 244, 47, 3654, 7852, 78, 63, 235, 45, 46, 47, 48, 49, 50, 50]\n"
     ]
    }
   ],
   "source": [
    "q = [456,4564,456,244,47,3654,7852,78,63,235]\n",
    "q.extend([45,46,47,48,49,50,50])\n",
    "print(q)"
   ]
  },
  {
   "cell_type": "code",
   "execution_count": 23,
   "id": "2f79abbc",
   "metadata": {},
   "outputs": [
    {
     "name": "stdout",
     "output_type": "stream",
     "text": [
      "[[456, 4564, [456, 244, 47, 365, 4, [7852, 78, 1000], 63], 235]]\n"
     ]
    }
   ],
   "source": [
    "q = [[456, 4564, [456, 244, 47, 365, 4, [7852, 78], 63], 235]]\n",
    "q[0][2][5].append(1000)\n",
    "print(q)"
   ]
  },
  {
   "cell_type": "code",
   "execution_count": 24,
   "id": "b2bdf15e",
   "metadata": {
    "scrolled": true
   },
   "outputs": [
    {
     "name": "stdout",
     "output_type": "stream",
     "text": [
      "['my', 'ms', 'iy', 'is']\n"
     ]
    }
   ],
   "source": [
    "x = [\"m\",\"i\"]\n",
    "y = [\"y\",\"s\"]\n",
    "z = []\n",
    "for i in x:\n",
    "    for j in y:\n",
    "        z.append(i+\"\"+j)\n",
    "print(z)"
   ]
  },
  {
   "cell_type": "code",
   "execution_count": 25,
   "id": "78469328",
   "metadata": {},
   "outputs": [
    {
     "name": "stdout",
     "output_type": "stream",
     "text": [
      "['hello', 'hii', '121', '12221', 'abba']\n"
     ]
    }
   ],
   "source": [
    "x = [\"hello\",\"hii\",\"121\",\"12221\",\"abba\"]\n",
    "z = []\n",
    "for i in x:\n",
    "    if len(i)<=3 and i[0] == i[-1]:\n",
    "        z.append(i)\n",
    "        print(x)"
   ]
  },
  {
   "cell_type": "code",
   "execution_count": 41,
   "id": "b02e2459",
   "metadata": {},
   "outputs": [
    {
     "name": "stdout",
     "output_type": "stream",
     "text": [
      "[7852, 78, 6000] 13930\n"
     ]
    }
   ],
   "source": [
    "q = [[456, 4564, [456, 244, 47, 365, 4, [7852, 78], 63], 235]]\n",
    "\n",
    "x = q[0][2][5]\n",
    "x.append(6000)\n",
    "s = sum(x)\n",
    "print(x,s)"
   ]
  },
  {
   "cell_type": "code",
   "execution_count": 39,
   "id": "9e1e53b3",
   "metadata": {},
   "outputs": [
    {
     "name": "stdout",
     "output_type": "stream",
     "text": [
      "min or x =   1\n",
      "max of x =   9\n",
      "sum of x =   40\n"
     ]
    }
   ],
   "source": [
    "x = [1, 2, 3, 5, 6, 8, 9, 6]\n",
    "print(\"min or x =  \", min(x))\n",
    "print(\"max of x =  \", max(x))\n",
    "print(\"sum of x =  \", sum(x))"
   ]
  },
  {
   "cell_type": "code",
   "execution_count": 45,
   "id": "441cc14f",
   "metadata": {},
   "outputs": [
    {
     "name": "stdout",
     "output_type": "stream",
     "text": [
      "[9, 8, 6, 6, 5, 3, 2, 1]\n",
      "None\n"
     ]
    }
   ],
   "source": [
    "x = [1, 2, 3, 5, 6, 8, 9, 6]\n",
    "x.sort()\n",
    "s = x.sort(reverse = True)\n",
    "print(x)\n",
    "print(s)"
   ]
  },
  {
   "cell_type": "code",
   "execution_count": 46,
   "id": "0604c483",
   "metadata": {},
   "outputs": [
    {
     "name": "stdout",
     "output_type": "stream",
     "text": [
      "min of x =  hello\n",
      "max of x =  yadav\n"
     ]
    }
   ],
   "source": [
    "x = [\"manoj\",\"yadav\",\"hello\"]\n",
    "print(\"min of x = \", min(x))\n",
    "print(\"max of x = \", max(x))"
   ]
  },
  {
   "cell_type": "code",
   "execution_count": 52,
   "id": "8d283ad6",
   "metadata": {},
   "outputs": [
    {
     "name": "stdout",
     "output_type": "stream",
     "text": [
      "[1, 2, 3, 1, 2, 3, 1, 2, 3]\n"
     ]
    }
   ],
   "source": [
    "x = [1,2,3]*3\n",
    "print(x)"
   ]
  },
  {
   "cell_type": "code",
   "execution_count": 54,
   "id": "13ed29e8",
   "metadata": {},
   "outputs": [
    {
     "name": "stdout",
     "output_type": "stream",
     "text": [
      "[[10000], [10000], [10000]]\n"
     ]
    }
   ],
   "source": [
    "x = [[]]*3\n",
    "x[0].append(10000)\n",
    "print(x)"
   ]
  },
  {
   "cell_type": "code",
   "execution_count": 5,
   "id": "d6b9efbc",
   "metadata": {},
   "outputs": [
    {
     "name": "stdout",
     "output_type": "stream",
     "text": [
      "yes\n",
      "no you are wrong\n"
     ]
    }
   ],
   "source": [
    "x= [11,22,88,66,77,55,33,44]\n",
    "\n",
    "if 77 in x:\n",
    "    print(\"yes\")\n",
    "else:\n",
    "    print(\"no\")\n",
    "    \n",
    "    \n",
    "if 77 not in x:\n",
    "    print(\"yes right\")\n",
    "else:\n",
    "    print(\"no you are wrong\")"
   ]
  },
  {
   "cell_type": "code",
   "execution_count": 9,
   "id": "15db946d",
   "metadata": {},
   "outputs": [
    {
     "name": "stdout",
     "output_type": "stream",
     "text": [
      "it is false\n"
     ]
    }
   ],
   "source": [
    "if[]:\n",
    "    print(\"it is true\")\n",
    "else:\n",
    "    print(\"it is false\")"
   ]
  },
  {
   "cell_type": "code",
   "execution_count": 5,
   "id": "35c44ad9",
   "metadata": {},
   "outputs": [
    {
     "name": "stdout",
     "output_type": "stream",
     "text": [
      "0 hello\n",
      "1 hii\n",
      "2 how\n",
      "3 hmmm\n"
     ]
    }
   ],
   "source": [
    "x = [\"hello\",\"hii\",\"how\",\"hmmm\"]\n",
    "\n",
    "for i in range(len(x)):\n",
    "    print(i,x[i])"
   ]
  },
  {
   "cell_type": "code",
   "execution_count": 18,
   "id": "98ddb8ec",
   "metadata": {},
   "outputs": [
    {
     "name": "stdout",
     "output_type": "stream",
     "text": [
      "[11, 22, 22, 33, 44, 66, 77, 88, 99]\n"
     ]
    }
   ],
   "source": [
    "x = [11,22,22,22,33,44,55,66,77,88,99,]\n",
    "\n",
    "x.remove(22)\n",
    "del x[5]\n",
    "print(x)"
   ]
  },
  {
   "cell_type": "code",
   "execution_count": 23,
   "id": "22fa3a3c",
   "metadata": {},
   "outputs": [
    {
     "name": "stdout",
     "output_type": "stream",
     "text": [
      "199\n"
     ]
    }
   ],
   "source": [
    "x = [11,22,22,22,33,44,55,66,77,88,99,]  #delete in element in index bases \n",
    "\n",
    "del x[1:5]\n",
    "\n",
    "z = x.pop()                                        #delete last element in list and index base delete\n",
    "print(z + 100)"
   ]
  },
  {
   "cell_type": "code",
   "execution_count": 27,
   "id": "1ee170c0",
   "metadata": {},
   "outputs": [
    {
     "name": "stdout",
     "output_type": "stream",
     "text": [
      "[]\n"
     ]
    }
   ],
   "source": [
    "x = [11,22,22,22,33,44,55,66,77,88,99,]    #remove all element in list \n",
    "x.clear()\n",
    "print(x)\n"
   ]
  },
  {
   "cell_type": "code",
   "execution_count": 113,
   "id": "1da1726b",
   "metadata": {},
   "outputs": [
    {
     "name": "stdout",
     "output_type": "stream",
     "text": [
      "[11, 33, 44, 55, 66, 77, 88, 99]\n",
      "[11, 33, 44, 55, 66, 77, 88, 99]\n"
     ]
    }
   ],
   "source": [
    "x = [11,22,22,22,33,44,55,66,77,88,99,]\n",
    "while 22 in x:\n",
    "    x.remove(22)\n",
    "print(x)\n",
    "    \n",
    "    \n",
    "    \n",
    "for i in x:\n",
    "    if 22 in x:\n",
    "        x.remove(22)\n",
    "    \n",
    "print(x)\n",
    "     "
   ]
  },
  {
   "cell_type": "markdown",
   "id": "00b2bc28",
   "metadata": {},
   "source": [
    "## list comphresion"
   ]
  },
  {
   "cell_type": "code",
   "execution_count": 143,
   "id": "19afdc53",
   "metadata": {},
   "outputs": [
    {
     "name": "stdout",
     "output_type": "stream",
     "text": [
      "['hii hello', 'hii yadav', 'hii shab', 'manoj hello', 'manoj yadav', 'manoj shab', 'rao hello', 'rao yadav', 'rao shab']\n"
     ]
    }
   ],
   "source": [
    "\n",
    "x = [\"hii\",\"manoj\",\"rao\"]\n",
    "y = [\"hello\",\"yadav\",\"shab\"]\n",
    "z = [i+\" \"+j for i in x for j in y]\n",
    "\n",
    "print(z)\n",
    "\n",
    "# for i in x:\n",
    "#     for j in y:\n",
    "#         z.append(i+j)\n"
   ]
  },
  {
   "cell_type": "code",
   "execution_count": 151,
   "id": "7eeb2380",
   "metadata": {},
   "outputs": [
    {
     "name": "stdout",
     "output_type": "stream",
     "text": [
      "['hiihello', 'manojyadav', 'raoshab']\n"
     ]
    }
   ],
   "source": [
    "x = [\"hii\",\"manoj\",\"rao\"]\n",
    "y = [\"hello\",\"yadav\",\"shab\"]\n",
    "z= []\n",
    "\n",
    "for i in range(len(x)):\n",
    "    z.append(x[i]+y[i])\n",
    "print(z)"
   ]
  },
  {
   "cell_type": "code",
   "execution_count": 171,
   "id": "00421f40",
   "metadata": {},
   "outputs": [
    {
     "name": "stdout",
     "output_type": "stream",
     "text": [
      "[11, 22, 33, 44, 56, 78, 55, 66, 77, 88, 99]\n"
     ]
    }
   ],
   "source": [
    "x = [11,22,22,22,33,44,44,56,78,55,66,77,88,99,]\n",
    "z = []\n",
    "for i in x:\n",
    "    if i not in z:\n",
    "      z.append(i)\n",
    "print(z)\n",
    "    \n",
    "    "
   ]
  },
  {
   "cell_type": "code",
   "execution_count": 184,
   "id": "3b175480",
   "metadata": {},
   "outputs": [
    {
     "name": "stdout",
     "output_type": "stream",
     "text": [
      "['hellh', '121', 'rer', '4654']\n"
     ]
    }
   ],
   "source": [
    "x = [\"hellh\",\"121\",\"rer\",\"465\",\"54654\",\"4654\",\"hellojf\"]\n",
    "z = []\n",
    "for i in x:\n",
    "    if i[0] == i[-1]:\n",
    "        z.append(i)\n",
    "print(z)"
   ]
  },
  {
   "cell_type": "code",
   "execution_count": 2,
   "id": "defe1755",
   "metadata": {},
   "outputs": [
    {
     "name": "stdout",
     "output_type": "stream",
     "text": [
      "('hello', 0.33, 456)\n"
     ]
    }
   ],
   "source": [
    "x = (\"hello\",0.33,456)\n",
    "print(x)"
   ]
  },
  {
   "cell_type": "code",
   "execution_count": null,
   "id": "739398ac",
   "metadata": {},
   "outputs": [],
   "source": []
  }
 ],
 "metadata": {
  "kernelspec": {
   "display_name": "Python 3 (ipykernel)",
   "language": "python",
   "name": "python3"
  },
  "language_info": {
   "codemirror_mode": {
    "name": "ipython",
    "version": 3
   },
   "file_extension": ".py",
   "mimetype": "text/x-python",
   "name": "python",
   "nbconvert_exporter": "python",
   "pygments_lexer": "ipython3",
   "version": "3.11.5"
  }
 },
 "nbformat": 4,
 "nbformat_minor": 5
}
