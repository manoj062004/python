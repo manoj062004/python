{
 "cells": [
  {
   "cell_type": "code",
   "execution_count": 2,
   "id": "02afe8ec",
   "metadata": {},
   "outputs": [
    {
     "name": "stdout",
     "output_type": "stream",
     "text": [
      "no\n"
     ]
    }
   ],
   "source": [
    "if(10 > 15):\n",
    "    print(\"yes\")\n",
    "else:\n",
    "    print(\"no\")"
   ]
  },
  {
   "cell_type": "code",
   "execution_count": 13,
   "id": "403bc1c0",
   "metadata": {},
   "outputs": [
    {
     "name": "stdout",
     "output_type": "stream",
     "text": [
      "one\n",
      "True\n",
      "true\n"
     ]
    }
   ],
   "source": [
    "if(1):\n",
    "    print(\"one\")\n",
    "    \n",
    "\n",
    "if(0):\n",
    "    print(\"zero\")\n",
    "    \n",
    "if(None):\n",
    "    print(\"None\")\n",
    "    \n",
    "if(True):\n",
    "    print(\"True\")\n",
    "    \n",
    "if(False):\n",
    "    print(\"False\")\n",
    "    \n",
    "if(-10):\n",
    "    print(\"true\")"
   ]
  },
  {
   "cell_type": "code",
   "execution_count": 16,
   "id": "fb90d840",
   "metadata": {},
   "outputs": [
    {
     "name": "stdout",
     "output_type": "stream",
     "text": [
      "False\n"
     ]
    }
   ],
   "source": [
    "print(bool(0))"
   ]
  },
  {
   "cell_type": "code",
   "execution_count": 24,
   "id": "0ea859b5",
   "metadata": {},
   "outputs": [
    {
     "name": "stdout",
     "output_type": "stream",
     "text": [
      "two\n"
     ]
    }
   ],
   "source": [
    "if(10 < 5):\n",
    "    print(\"one\")\n",
    "elif(25<135):\n",
    "    print(\"two\")\n",
    "elif(10>5):\n",
    "    print(\"three\")\n",
    "else:\n",
    "    print(\"last\")"
   ]
  },
  {
   "cell_type": "code",
   "execution_count": 31,
   "id": "406d7257",
   "metadata": {},
   "outputs": [
    {
     "name": "stdout",
     "output_type": "stream",
     "text": [
      "Enter you number : -100\n",
      "-100 is a nagative number\n"
     ]
    }
   ],
   "source": [
    "x = int(input(\"Enter you number : \"))\n",
    "\n",
    "if(x>0):\n",
    "    print(x,\"is a positive number\")\n",
    "else:\n",
    "    print(x,\"is a nagative number\")"
   ]
  },
  {
   "cell_type": "code",
   "execution_count": 37,
   "id": "a8097fa2",
   "metadata": {},
   "outputs": [
    {
     "name": "stdout",
     "output_type": "stream",
     "text": [
      "enter you first No : 10.3\n"
     ]
    },
    {
     "ename": "ValueError",
     "evalue": "invalid literal for int() with base 10: '10.3'",
     "output_type": "error",
     "traceback": [
      "\u001b[1;31m---------------------------------------------------------------------------\u001b[0m",
      "\u001b[1;31mValueError\u001b[0m                                Traceback (most recent call last)",
      "Cell \u001b[1;32mIn[37], line 1\u001b[0m\n\u001b[1;32m----> 1\u001b[0m x \u001b[38;5;241m=\u001b[39m \u001b[38;5;28mint\u001b[39m(\u001b[38;5;28minput\u001b[39m(\u001b[38;5;124m\"\u001b[39m\u001b[38;5;124menter you first No : \u001b[39m\u001b[38;5;124m\"\u001b[39m));\n\u001b[0;32m      2\u001b[0m y \u001b[38;5;241m=\u001b[39m \u001b[38;5;28mint\u001b[39m(\u001b[38;5;28minput\u001b[39m(\u001b[38;5;124m\"\u001b[39m\u001b[38;5;124menter you second No : \u001b[39m\u001b[38;5;124m\"\u001b[39m))\n\u001b[0;32m      4\u001b[0m \u001b[38;5;28;01mif\u001b[39;00m(x\u001b[38;5;241m>\u001b[39my):\n",
      "\u001b[1;31mValueError\u001b[0m: invalid literal for int() with base 10: '10.3'"
     ]
    }
   ],
   "source": [
    "x = int(input(\"enter you first No : \"));\n",
    "y = int(input(\"enter you second No : \"))\n",
    "\n",
    "if(x>y):\n",
    "    print(x,\"is a grater than\",y)\n",
    "else:\n",
    "    print(y,\"is grater than\",x)"
   ]
  },
  {
   "cell_type": "code",
   "execution_count": 70,
   "id": "12639de7",
   "metadata": {},
   "outputs": [
    {
     "name": "stdout",
     "output_type": "stream",
     "text": [
      "enter you percentage : 78\n",
      "you are a second divison\n"
     ]
    }
   ],
   "source": [
    "\n",
    "x=float(input(\"enter you percentage : \"))\n",
    "\n",
    "if(x>100):\n",
    "    print(\"invalid value\")\n",
    "elif(x==100):\n",
    "    print(\"your are topper\")\n",
    "elif(x>=80):\n",
    "    print(\"you are a first divison\")\n",
    "elif(x>=60):\n",
    "    print(\"you are a second divison\")\n",
    "elif(x>40):\n",
    "    print(\"you are a third divison\")\n",
    "else:\n",
    "    print(\"sorry you are fail\")"
   ]
  },
  {
   "cell_type": "code",
   "execution_count": null,
   "id": "fbb65725",
   "metadata": {},
   "outputs": [],
   "source": [
    "x "
   ]
  },
  {
   "cell_type": "code",
   "execution_count": null,
   "id": "838f2c52",
   "metadata": {},
   "outputs": [],
   "source": []
  }
 ],
 "metadata": {
  "kernelspec": {
   "display_name": "Python 3 (ipykernel)",
   "language": "python",
   "name": "python3"
  },
  "language_info": {
   "codemirror_mode": {
    "name": "ipython",
    "version": 3
   },
   "file_extension": ".py",
   "mimetype": "text/x-python",
   "name": "python",
   "nbconvert_exporter": "python",
   "pygments_lexer": "ipython3",
   "version": "3.11.5"
  }
 },
 "nbformat": 4,
 "nbformat_minor": 5
}
