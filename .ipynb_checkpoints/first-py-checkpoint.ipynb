{
 "cells": [
  {
   "cell_type": "code",
   "execution_count": null,
   "id": "20f5ed84",
   "metadata": {},
   "outputs": [],
   "source": [
    "print(\"jai shree ram\")"
   ]
  },
  {
   "cell_type": "markdown",
   "id": "6a377798",
   "metadata": {},
   "source": [
    "#strings\n"
   ]
  },
  {
   "cell_type": "code",
   "execution_count": 4,
   "id": "1b009e17",
   "metadata": {},
   "outputs": [
    {
     "name": "stdout",
     "output_type": "stream",
     "text": [
      "jai shree ram\n"
     ]
    }
   ],
   "source": [
    "print(\"jai shree ram\")"
   ]
  },
  {
   "cell_type": "code",
   "execution_count": 6,
   "id": "1c520d0a",
   "metadata": {},
   "outputs": [
    {
     "name": "stdout",
     "output_type": "stream",
     "text": [
      "HEY HELLO WORLD HOW ARE YOU\n",
      "hey hello world how are you\n",
      "Hey hello world how are you\n",
      "Hey Hello World How Are You\n"
     ]
    }
   ],
   "source": [
    "c = \"hey hello world how are you\"\n",
    "print(c.upper())\n",
    "print(c.lower())\n",
    "print(c.capitalize())\n",
    "print(c.title())"
   ]
  },
  {
   "cell_type": "code",
   "execution_count": 10,
   "id": "4a90e9e2",
   "metadata": {},
   "outputs": [
    {
     "name": "stdout",
     "output_type": "stream",
     "text": [
      "False\n",
      "False\n",
      "True\n",
      "False\n",
      "True\n"
     ]
    }
   ],
   "source": [
    "c = \"7894561\"\n",
    "print(c.isupper())\n",
    "print(c.islower())\n",
    "print(c.isdigit())\n",
    "print(c.isalpha())\n",
    "print(c.isalnum())"
   ]
  },
  {
   "cell_type": "code",
   "execution_count": 40,
   "id": "204a6309",
   "metadata": {},
   "outputs": [
    {
     "name": "stdout",
     "output_type": "stream",
     "text": [
      "14\n",
      "2\n"
     ]
    }
   ],
   "source": [
    "c = \"hii ia am fine\"\n",
    "print(len(c))\n",
    "print(c.count(\"a\"))"
   ]
  },
  {
   "cell_type": "code",
   "execution_count": 18,
   "id": "80b6d305",
   "metadata": {
    "scrolled": true
   },
   "outputs": [
    {
     "name": "stdout",
     "output_type": "stream",
     "text": [
      "h\n",
      "u\n"
     ]
    }
   ],
   "source": [
    "#indexing\n",
    "x = \"hii hello how are you\"\n",
    "print(x[0])\n",
    "print(x[-1])"
   ]
  },
  {
   "cell_type": "code",
   "execution_count": 1,
   "id": "0a6db62b",
   "metadata": {
    "scrolled": true
   },
   "outputs": [
    {
     "name": "stdout",
     "output_type": "stream",
     "text": [
      "india \n",
      "idai ycnay\n"
     ]
    }
   ],
   "source": [
    "#slicing\n",
    "\n",
    "a = \"india is my contary\"\n",
    "print(a[0:6])                         #syantax  a[start-point:end-point]\n",
    "\n",
    "print(a[::2])                  # if we want a print in afer one word next word print use this funtion   syntax x[srart_point:end point : skip-point]"
   ]
  },
  {
   "cell_type": "code",
   "execution_count": 27,
   "id": "1d7195b9",
   "metadata": {},
   "outputs": [
    {
     "name": "stdout",
     "output_type": "stream",
     "text": [
      "u\n"
     ]
    }
   ],
   "source": [
    "x = \"hello how are you\"\n",
    "print(x[-1])"
   ]
  },
  {
   "cell_type": "code",
   "execution_count": 37,
   "id": "a6f8afaa",
   "metadata": {},
   "outputs": [
    {
     "name": "stdout",
     "output_type": "stream",
     "text": [
      "uoy tuoba stahw uoy era woh iih\n",
      "['hii', 'how', 'are', 'you', 'whats', 'about', 'you']\n"
     ]
    }
   ],
   "source": [
    "#reverse string\n",
    "\n",
    "b = \"hii how are you whats about you\"\n",
    "print(b[ : :-1])\n",
    "print(b.split())"
   ]
  },
  {
   "cell_type": "code",
   "execution_count": 11,
   "id": "60c3c515",
   "metadata": {},
   "outputs": [
    {
     "name": "stdout",
     "output_type": "stream",
     "text": [
      "ny nane is nanoj yadav\n",
      "hy nahe is manoj yadav\n",
      "wsey wsow are you\n"
     ]
    }
   ],
   "source": [
    "##string replace method \n",
    "\n",
    "x = \"my name is manoj yadav\"\n",
    "print(x.replace(\"m\",\"n\"))     #syntax x.replace(\"change_name,change_content\")\n",
    "\n",
    "\n",
    "print(x.replace(\"m\",\"h\",2))\n",
    "\n",
    "r = \"hey how are you\"\n",
    "print(r.replace(\"h\",\"ws\"))"
   ]
  },
  {
   "cell_type": "code",
   "execution_count": 26,
   "id": "0a9f1e50",
   "metadata": {},
   "outputs": [
    {
     "name": "stdout",
     "output_type": "stream",
     "text": [
      "0\n",
      "4\n",
      "4\n",
      "4\n"
     ]
    }
   ],
   "source": [
    "#how to cheak index in string \n",
    "x = \"hii how are you\"\n",
    "print(x.index(\"h\"))\n",
    "print(x.rindex(\"h\"))\n",
    "\n",
    "y = \"hii how are you\"\n",
    "print(y.index(\"h\",1))\n"
   ]
  },
  {
   "cell_type": "code",
   "execution_count": null,
   "id": "ac775758",
   "metadata": {},
   "outputs": [],
   "source": []
  },
  {
   "cell_type": "code",
   "execution_count": null,
   "id": "6dc2b54e",
   "metadata": {},
   "outputs": [],
   "source": []
  }
 ],
 "metadata": {
  "kernelspec": {
   "display_name": "Python 3 (ipykernel)",
   "language": "python",
   "name": "python3"
  },
  "language_info": {
   "codemirror_mode": {
    "name": "ipython",
    "version": 3
   },
   "file_extension": ".py",
   "mimetype": "text/x-python",
   "name": "python",
   "nbconvert_exporter": "python",
   "pygments_lexer": "ipython3",
   "version": "3.11.5"
  }
 },
 "nbformat": 4,
 "nbformat_minor": 5
}
