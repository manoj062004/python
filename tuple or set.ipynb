{
 "cells": [
  {
   "cell_type": "code",
   "execution_count": 6,
   "id": "f371c0b8",
   "metadata": {},
   "outputs": [
    {
     "name": "stdout",
     "output_type": "stream",
     "text": [
      "enter your number2\n",
      "enter your list number :45\n",
      "enter your list number :78\n",
      "[45, 78]\n"
     ]
    }
   ],
   "source": [
    "#create a list from user input\n",
    "\n",
    "x = int(input(\"enter your number\"))\n",
    "z =[]\n",
    "\n",
    "for i in range(x):\n",
    "    y = input(\"enter your list number :\")\n",
    "    if y.isdigit():\n",
    "        z.append(int(y))\n",
    "    else:\n",
    "        z.append(y)\n",
    "        \n",
    "print(z)"
   ]
  },
  {
   "cell_type": "code",
   "execution_count": 27,
   "id": "8fa88667",
   "metadata": {},
   "outputs": [
    {
     "name": "stdout",
     "output_type": "stream",
     "text": [
      "[12, 45, 63, 78, 41, 36]\n"
     ]
    }
   ],
   "source": [
    "x = [12,45,63,78,12,12,41,45,36]\n",
    "z = []\n",
    "for i in x:\n",
    "    \n",
    "    if i not in z:\n",
    "        z.append(i)\n",
    "        \n",
    "        \n",
    "print(z)"
   ]
  },
  {
   "cell_type": "markdown",
   "id": "c3036ca7",
   "metadata": {},
   "source": [
    "## tuple function\n",
    "\n"
   ]
  },
  {
   "cell_type": "code",
   "execution_count": 35,
   "id": "90e5176f",
   "metadata": {},
   "outputs": [
    {
     "name": "stdout",
     "output_type": "stream",
     "text": [
      "554.012\n",
      "12\n",
      "456\n",
      "3\n",
      "0\n",
      "0\n",
      "(12, 456, 86.012)\n"
     ]
    }
   ],
   "source": [
    "x = (12,456,86.012)\n",
    "\n",
    "print(sum(x))\n",
    "print(min(x))\n",
    "print(max(x))\n",
    "print(len(x))\n",
    "print(x.index(12))\n",
    "print(x.count(\"12\"))\n",
    "print(x)"
   ]
  },
  {
   "cell_type": "code",
   "execution_count": 39,
   "id": "632fc307",
   "metadata": {},
   "outputs": [
    {
     "name": "stdout",
     "output_type": "stream",
     "text": [
      "[11, 22, 66, 44, 55]\n"
     ]
    }
   ],
   "source": [
    "x = (11,22,33,44,55)\n",
    "y = list(x)\n",
    "y[2] = 66\n",
    "\n",
    "x = tuple(y)\n",
    "\n",
    "print(y)"
   ]
  },
  {
   "cell_type": "code",
   "execution_count": 41,
   "id": "7fb3c0a1",
   "metadata": {},
   "outputs": [
    {
     "name": "stdout",
     "output_type": "stream",
     "text": [
      "('hello', 'hii')\n",
      "('hii',)\n",
      "hmmmm\n",
      "<class 'tuple'>\n",
      "<class 'tuple'>\n",
      "<class 'str'>\n"
     ]
    }
   ],
   "source": [
    "#which of the tuple\n",
    "\n",
    "x = (\"hello\",\"hii\")    #it is a tuple\n",
    "y = (\"hii\",)           #it is ia tuple because ,comma is demfine a it is tuple\n",
    "z = (\"hmmmm\")           # it is not a tuple \n",
    "\n",
    "print(x)\n",
    "print(y)\n",
    "print(z)\n",
    "\n",
    "print(type(x))\n",
    "print(type(y))\n",
    "print(type(z))"
   ]
  },
  {
   "cell_type": "code",
   "execution_count": 42,
   "id": "ef87f1b4",
   "metadata": {},
   "outputs": [
    {
     "name": "stdout",
     "output_type": "stream",
     "text": [
      "(4, 6, 7, 2, 5, 8)\n"
     ]
    }
   ],
   "source": [
    "#Q3 \n",
    "\n",
    "x = (4,6,7)\n",
    "y = (2,5,8)\n",
    "\n",
    "z = x+y\n",
    "print(z)"
   ]
  },
  {
   "cell_type": "code",
   "execution_count": 46,
   "id": "1d1119a9",
   "metadata": {},
   "outputs": [
    {
     "name": "stdout",
     "output_type": "stream",
     "text": [
      "(45, 35)\n"
     ]
    }
   ],
   "source": [
    "# this is tuple\n",
    "x = 45,35\n",
    "print(x)"
   ]
  },
  {
   "cell_type": "markdown",
   "id": "60728658",
   "metadata": {},
   "source": [
    "# tuple unpacking\n"
   ]
  },
  {
   "cell_type": "code",
   "execution_count": 50,
   "id": "d5e79cda",
   "metadata": {},
   "outputs": [
    {
     "name": "stdout",
     "output_type": "stream",
     "text": [
      "19 hello 456\n",
      "19\n",
      "hello\n",
      "456\n"
     ]
    }
   ],
   "source": [
    "x,y,z = (19,\"hello\",456)\n",
    "print(x,y,z)\n",
    "print(x)\n",
    "print(y)\n",
    "print(z)"
   ]
  },
  {
   "cell_type": "markdown",
   "id": "27ef99d8",
   "metadata": {},
   "source": [
    "## tuple swaping"
   ]
  },
  {
   "cell_type": "code",
   "execution_count": 52,
   "id": "a53c2f69",
   "metadata": {},
   "outputs": [
    {
     "name": "stdout",
     "output_type": "stream",
     "text": [
      "(38, 71, 15)\n",
      "(20, 30, 45, 12)\n"
     ]
    }
   ],
   "source": [
    "x = (20,30,45,12)\n",
    "y = (38,71,15)\n",
    "x,y = y,x\n",
    "\n",
    "print(x)\n",
    "print(y)"
   ]
  },
  {
   "cell_type": "code",
   "execution_count": 56,
   "id": "bdf5a382",
   "metadata": {},
   "outputs": [
    {
     "name": "stdout",
     "output_type": "stream",
     "text": [
      "(1, 2, 3, 78, [45, 63, 85], 85, 32, 94)\n",
      "[1, 2, 3, 78, (45, 63, 85), 85, 32, 94]\n"
     ]
    }
   ],
   "source": [
    "x =(1,2,3,78,[45,63,85],85,32,94)\n",
    "y =[1,2,3,78,(45,63,85),85,32,94]\n",
    "print(x)\n",
    "print(y)"
   ]
  },
  {
   "cell_type": "markdown",
   "id": "2c4d0141",
   "metadata": {},
   "source": [
    "# SET ------ {}\n",
    "\n",
    "- set is immutabel\n",
    "- set is unorderd\n",
    "- set is unindexed\n",
    "- set is collection of unique elements\n"
   ]
  },
  {
   "cell_type": "code",
   "execution_count": 57,
   "id": "9d00737a",
   "metadata": {},
   "outputs": [
    {
     "name": "stdout",
     "output_type": "stream",
     "text": [
      "{'hello', 987, 12, 45, 'hii', 63}\n"
     ]
    }
   ],
   "source": [
    "x = {12,\"hello\",\"hii\",45,987,987,12,45,63}\n",
    "print(x)"
   ]
  },
  {
   "cell_type": "code",
   "execution_count": 61,
   "id": "e81bdf15",
   "metadata": {},
   "outputs": [
    {
     "name": "stdout",
     "output_type": "stream",
     "text": [
      "{45555, 'hello', 987, 12, 45, 'hii', 63}\n"
     ]
    }
   ],
   "source": [
    "x = {12,\"hello\",\"hii\",45,987,987,12,45,63}\n",
    "x.add(45555)\n",
    "print(x)"
   ]
  },
  {
   "cell_type": "code",
   "execution_count": 63,
   "id": "e7f8efd6",
   "metadata": {},
   "outputs": [
    {
     "name": "stdout",
     "output_type": "stream",
     "text": [
      "{'w', 12, 'hii', 987, 'hello', 'u', 'i', 'r', 'y', 45, 'e', 'o', 'h', 'a', 63}\n"
     ]
    }
   ],
   "source": [
    "x = {12,\"hello\",\"hii\",45,987,987,12,45,63}\n",
    "x.update(\"hii\",\"how\",\"are\",\"you\")\n",
    "print(x)"
   ]
  },
  {
   "cell_type": "code",
   "execution_count": 1,
   "id": "cda3fa35",
   "metadata": {},
   "outputs": [
    {
     "ename": "SyntaxError",
     "evalue": "invalid syntax. Perhaps you forgot a comma? (4032927222.py, line 6)",
     "output_type": "error",
     "traceback": [
      "\u001b[1;36m  Cell \u001b[1;32mIn[1], line 6\u001b[1;36m\u001b[0m\n\u001b[1;33m    z.update(x[i]y[i])\u001b[0m\n\u001b[1;37m             ^\u001b[0m\n\u001b[1;31mSyntaxError\u001b[0m\u001b[1;31m:\u001b[0m invalid syntax. Perhaps you forgot a comma?\n"
     ]
    }
   ],
   "source": [
    "x = ['a','b','c']\n",
    "y = [1,2,3]\n",
    "z = {}\n",
    "\n",
    "for i in x:\n",
    "    z.update(x[i]y[i])\n",
    "    \n",
    "print(z)"
   ]
  },
  {
   "cell_type": "code",
   "execution_count": 16,
   "id": "3a0d6244",
   "metadata": {},
   "outputs": [
    {
     "name": "stdout",
     "output_type": "stream",
     "text": [
      "{0: 1, 1: 1, 2: 1}\n"
     ]
    }
   ],
   "source": [
    "x = {}\n",
    "\n",
    "for i in range(3):\n",
    "    for j in range(2):\n",
    "        x[i] = j\n",
    "        \n",
    "print(x)"
   ]
  },
  {
   "cell_type": "code",
   "execution_count": null,
   "id": "45701f5e",
   "metadata": {},
   "outputs": [],
   "source": [
    "x = {\n",
    "    \n",
    "}"
   ]
  }
 ],
 "metadata": {
  "kernelspec": {
   "display_name": "Python 3 (ipykernel)",
   "language": "python",
   "name": "python3"
  },
  "language_info": {
   "codemirror_mode": {
    "name": "ipython",
    "version": 3
   },
   "file_extension": ".py",
   "mimetype": "text/x-python",
   "name": "python",
   "nbconvert_exporter": "python",
   "pygments_lexer": "ipython3",
   "version": "3.11.5"
  }
 },
 "nbformat": 4,
 "nbformat_minor": 5
}
