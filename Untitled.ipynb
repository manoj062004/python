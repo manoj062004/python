{
 "cells": [
  {
   "cell_type": "code",
   "execution_count": 1,
   "id": "49b0a9be",
   "metadata": {},
   "outputs": [
    {
     "name": "stdout",
     "output_type": "stream",
     "text": [
      "jai shree ram\n"
     ]
    }
   ],
   "source": [
    "print(\"jai shree ram\")"
   ]
  },
  {
   "cell_type": "code",
   "execution_count": 1,
   "id": "4e8c3d79",
   "metadata": {},
   "outputs": [
    {
     "name": "stdout",
     "output_type": "stream",
     "text": [
      "i o r o\n"
     ]
    }
   ],
   "source": [
    "c = \"hii how are you\"\n",
    "print(c[1:20:2])"
   ]
  },
  {
   "cell_type": "code",
   "execution_count": 8,
   "id": "bfe3f9c3",
   "metadata": {},
   "outputs": [
    {
     "name": "stdout",
     "output_type": "stream",
     "text": [
      "uoy era woh iih\n"
     ]
    }
   ],
   "source": [
    "c= \"hii how are you\"\n",
    "print(c[ : :-1])"
   ]
  },
  {
   "cell_type": "code",
   "execution_count": 17,
   "id": "d2d96572",
   "metadata": {},
   "outputs": [
    {
     "name": "stdout",
     "output_type": "stream",
     "text": [
      "mii mow are hou\n",
      "15\n",
      "3\n"
     ]
    }
   ],
   "source": [
    "f = \"hii how are hou\"\n",
    "print(f.replace(\"h\",\"m\",2))\n",
    "print(len(f))\n",
    "print(f.count(\"h\"))"
   ]
  },
  {
   "cell_type": "code",
   "execution_count": 20,
   "id": "10a2d772",
   "metadata": {},
   "outputs": [
    {
     "name": "stdout",
     "output_type": "stream",
     "text": [
      "0\n",
      "4\n"
     ]
    }
   ],
   "source": [
    "g = \"hii how are you\"\n",
    "print(g.index(\"h\"))\n",
    "print(g.rindex(\"h\"))"
   ]
  },
  {
   "cell_type": "code",
   "execution_count": null,
   "id": "ba977329",
   "metadata": {},
   "outputs": [],
   "source": []
  }
 ],
 "metadata": {
  "kernelspec": {
   "display_name": "Python 3 (ipykernel)",
   "language": "python",
   "name": "python3"
  },
  "language_info": {
   "codemirror_mode": {
    "name": "ipython",
    "version": 3
   },
   "file_extension": ".py",
   "mimetype": "text/x-python",
   "name": "python",
   "nbconvert_exporter": "python",
   "pygments_lexer": "ipython3",
   "version": "3.11.5"
  }
 },
 "nbformat": 4,
 "nbformat_minor": 5
}
