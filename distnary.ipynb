{
 "cells": [
  {
   "cell_type": "code",
   "execution_count": 1,
   "id": "2b2a2a1b",
   "metadata": {},
   "outputs": [
    {
     "name": "stdout",
     "output_type": "stream",
     "text": [
      "{632, 45}\n"
     ]
    }
   ],
   "source": [
    "x = {45,632,45}\n",
    "print(x)"
   ]
  },
  {
   "cell_type": "code",
   "execution_count": 7,
   "id": "459b033b",
   "metadata": {},
   "outputs": [
    {
     "name": "stdout",
     "output_type": "stream",
     "text": [
      "{'s': 45, 'c': 120, 'd': 450}\n"
     ]
    }
   ],
   "source": [
    "x = {\n",
    "    's':45,\n",
    "    'c':32,\n",
    "    'd':450,\n",
    "} \n",
    "\n",
    "#r = x.pop('s')\n",
    "#r = x.clear()\n",
    "#r = x.popitem()\n",
    "x['c'] = 120\n",
    "\n",
    "print(x)"
   ]
  },
  {
   "cell_type": "code",
   "execution_count": 12,
   "id": "3bd9b90b",
   "metadata": {},
   "outputs": [
    {
     "name": "stdout",
     "output_type": "stream",
     "text": [
      "{'a': 100, 'b': 200, 'c': 300, 'd': 400, 'e': 500, 'f': 600}\n"
     ]
    }
   ],
   "source": [
    "s = {\n",
    "    'a':100,\n",
    "    'b':200,\n",
    "    'c':300,\n",
    "    'd':400,\n",
    "\n",
    "}\n",
    "\n",
    "s.update({'e':500,'f':600})\n",
    "\n",
    "print(s)"
   ]
  },
  {
   "cell_type": "markdown",
   "id": "5e939fc4",
   "metadata": {},
   "source": [
    "## get function\n"
   ]
  },
  {
   "cell_type": "code",
   "execution_count": 18,
   "id": "5a6b0760",
   "metadata": {},
   "outputs": [
    {
     "name": "stdout",
     "output_type": "stream",
     "text": [
      "key is not found\n"
     ]
    }
   ],
   "source": [
    "c = {\n",
    "    'a':100,\n",
    "    'b':200,\n",
    "    'c':300,\n",
    "    'd':400,\n",
    "}\n",
    "\n",
    "print(c.get('m',\"key is not found\"))"
   ]
  },
  {
   "cell_type": "code",
   "execution_count": 19,
   "id": "96c9ce5f",
   "metadata": {},
   "outputs": [
    {
     "name": "stdout",
     "output_type": "stream",
     "text": [
      "{'a': 'hello', 'b': 'world', 'c': 'hii', 45: 654, 89: 231}\n"
     ]
    }
   ],
   "source": [
    "d ={\n",
    "    'a':\"hello\",\n",
    "    'b':'world',\n",
    "    'c': 'hii',\n",
    "    45:654,\n",
    "    89:231,\n",
    "}\n",
    "\n",
    "print(d)"
   ]
  },
  {
   "cell_type": "code",
   "execution_count": 24,
   "id": "3dd5b688",
   "metadata": {},
   "outputs": [
    {
     "name": "stdout",
     "output_type": "stream",
     "text": [
      "{'a': ['hii', 100, 50, 'hello', 'all'], 'b': ('hii', 10, 20, 'hii'), 'c': 'hii how are you'}\n"
     ]
    }
   ],
   "source": [
    "t ={\n",
    "    'a':['hii',100,50,\"hello\"],\n",
    "    'b':(\"hii\",10,20,\"hii\"),\n",
    "    'c':\"hii how are you\"\n",
    "}\n",
    "\n",
    "t['a'].append(\"all\")\n",
    "\n",
    "print(t)"
   ]
  },
  {
   "cell_type": "code",
   "execution_count": 34,
   "id": "6ab3bad2",
   "metadata": {},
   "outputs": [
    {
     "name": "stdout",
     "output_type": "stream",
     "text": [
      "dict_keys(['name', 'lastname', 'address', 'rao'])\n",
      "dict_values(['manoj', 'yadav', 'haryana', 'shab'])\n",
      "dict_items([('name', 'manoj'), ('lastname', 'yadav'), ('address', 'haryana'), ('rao', 'shab')])\n"
     ]
    }
   ],
   "source": [
    "n = {\n",
    "    'name': \"manoj\",\n",
    "    'lastname': \"yadav\",\n",
    "    'address':\"haryana\",\n",
    "    'rao':\"shab\"\n",
    "}\n",
    "\n",
    "# n = {\n",
    "#     'a':10,\n",
    "#     'b':20,\n",
    "#     'c':30\n",
    "# }\n",
    "\n",
    "print(n.keys())\n",
    "print(n.values())\n",
    "print(n.items())"
   ]
  },
  {
   "cell_type": "code",
   "execution_count": 31,
   "id": "582fdad2",
   "metadata": {},
   "outputs": [
    {
     "name": "stdout",
     "output_type": "stream",
     "text": [
      "Value of a is 45\n",
      "yes\n"
     ]
    }
   ],
   "source": [
    "u = {\n",
    "    'a':45\n",
    "}\n",
    "\n",
    "if('a',45) in u.items():\n",
    "    print(\"Value of a is 45\")\n",
    "else:\n",
    "    print(\"not here\")\n",
    "\n",
    "if 'a' in u:\n",
    "    print(\"yes\")\n",
    "else:\n",
    "    print(\"no\")"
   ]
  },
  {
   "cell_type": "code",
   "execution_count": 49,
   "id": "02ff007d",
   "metadata": {},
   "outputs": [
    {
     "name": "stdout",
     "output_type": "stream",
     "text": [
      "12 45\n",
      "3 hello\n",
      "2 421\n",
      "45\n",
      "hello\n",
      "421\n",
      "(12, 45)\n",
      "(3, 'hello')\n",
      "(2, 421)\n",
      "12     45\n",
      "3     hello\n",
      "2     421\n"
     ]
    }
   ],
   "source": [
    "x = {\n",
    "    12:45,\n",
    "    3:'hello',\n",
    "    2:421\n",
    "}\n",
    "\n",
    "for i in x:\n",
    "    print(i,x[i])\n",
    "\n",
    "\n",
    "for i in x.values():\n",
    "    print(i)\n",
    "\n",
    "for i in x.items():\n",
    "    print(i)\n",
    "\n",
    "\n",
    "for i,j in x.items():\n",
    "    print(i,\"   \",j)\n"
   ]
  },
  {
   "cell_type": "code",
   "execution_count": 58,
   "id": "9afeae87",
   "metadata": {},
   "outputs": [
    {
     "name": "stdout",
     "output_type": "stream",
     "text": [
      "{'a': 0, 'b': 0, 'c': 0, 'd': 0}\n"
     ]
    }
   ],
   "source": [
    "#emphty disc\n",
    "x  = ['a','b','c','d']\n",
    "y = 0\n",
    "\n",
    "z ={}\n",
    "\n",
    "for i in x:\n",
    "    z[i] = y\n",
    "\n",
    "print(z)"
   ]
  },
  {
   "cell_type": "code",
   "execution_count": 1,
   "id": "12c1bfa2",
   "metadata": {},
   "outputs": [
    {
     "name": "stdout",
     "output_type": "stream",
     "text": [
      "{'a': 45, 'b': 65.0, 'd': 500}\n"
     ]
    }
   ],
   "source": [
    "x = {\n",
    "    'a':45,\n",
    "    'b':65.\n",
    "\n",
    "}\n",
    "\n",
    "x['d'] = 500\n",
    "\n",
    "print(x)\n",
    "\n",
    "#print(x['f'])  give a error because key is not found"
   ]
  },
  {
   "cell_type": "code",
   "execution_count": 12,
   "id": "c2a250fc",
   "metadata": {},
   "outputs": [
    {
     "name": "stdout",
     "output_type": "stream",
     "text": [
      "{'name': ['manoj', 'yadav', 'raoshab'], 'age': 18, 'addres': {'haryana'}}\n"
     ]
    }
   ],
   "source": [
    "x = {\n",
    "   'name':[\"manoj\",\"yadav\"],\n",
    "   'age':(18),\n",
    "   'addres': {\"haryana\"}\n",
    "\n",
    "   \n",
    "}\n",
    "\n",
    "x['name'].append(\"raoshab\")\n",
    "print(x)"
   ]
  },
  {
   "cell_type": "code",
   "execution_count": 33,
   "id": "b103dd4c",
   "metadata": {},
   "outputs": [
    {
     "name": "stdout",
     "output_type": "stream",
     "text": [
      "yes it is here\n"
     ]
    }
   ],
   "source": [
    "x = {\n",
    "    12:45,\n",
    "    78:'hello',\n",
    "    2:421\n",
    "}\n",
    "\n",
    "if (78)in x.keys():\n",
    "    print(\"yes it is here\")\n",
    "else:\n",
    "    print(\"it is not found\")"
   ]
  },
  {
   "cell_type": "code",
   "execution_count": 30,
   "id": "71f8adb0",
   "metadata": {},
   "outputs": [
    {
     "name": "stdout",
     "output_type": "stream",
     "text": [
      "{'a': 0, 'b': 0, 'c': 0, 'd': 0}\n"
     ]
    }
   ],
   "source": [
    "x = ['a','b','c','d']\n",
    "y = 0\n",
    "z ={}\n",
    "for i in x:\n",
    "   z[i] = y\n",
    "print(z)"
   ]
  },
  {
   "cell_type": "code",
   "execution_count": 59,
   "id": "904919e3",
   "metadata": {},
   "outputs": [
    {
     "name": "stdout",
     "output_type": "stream",
     "text": [
      "{'a': 0, 'b': 0, 'c': 0, 'd': 0}\n"
     ]
    }
   ],
   "source": [
    "x = ['a','b','c','d']\n",
    "y = 0\n",
    "z ={}\n",
    "\n",
    "for i in x:\n",
    "    z[i]=y\n",
    "print(z)"
   ]
  },
  {
   "cell_type": "code",
   "execution_count": 88,
   "id": "41836ce3",
   "metadata": {},
   "outputs": [
    {
     "name": "stdout",
     "output_type": "stream",
     "text": [
      "{'a': 1, 'b': 2, 'c': 3, 'd': 4}\n"
     ]
    }
   ],
   "source": [
    "x = ['a','b','c','d']\n",
    "y = [1,2,3,4]\n",
    "z ={}\n",
    "a = 0\n",
    "for i in x:\n",
    "    z[i] = y[a]\n",
    "    a =a+1\n",
    "\n",
    "print(z)"
   ]
  },
  {
   "cell_type": "code",
   "execution_count": 93,
   "id": "f0bfab7d",
   "metadata": {},
   "outputs": [
    {
     "name": "stdout",
     "output_type": "stream",
     "text": [
      "{'a': 1, 'b': 2, 'c': 8, 'd': 6}\n"
     ]
    }
   ],
   "source": [
    "x = ['a','b','c','d']\n",
    "y = [1,2,8,6]\n",
    "z ={}\n",
    "\n",
    "for i in range(len(x)):\n",
    "    z.update({x[i]:y[i]})\n",
    "\n",
    "print(z)"
   ]
  },
  {
   "cell_type": "code",
   "execution_count": 102,
   "id": "bf745938",
   "metadata": {},
   "outputs": [
    {
     "name": "stdout",
     "output_type": "stream",
     "text": [
      "(321, 200)\n"
     ]
    }
   ],
   "source": [
    "x = {\n",
    "    1:456,\n",
    "    2:321\n",
    "}\n",
    "y = [x[2]]\n",
    "y.append(200)\n",
    "x[2] = tuple(y)\n",
    "print(x[2])"
   ]
  },
  {
   "cell_type": "code",
   "execution_count": 104,
   "id": "380d694b",
   "metadata": {},
   "outputs": [
    {
     "name": "stdout",
     "output_type": "stream",
     "text": [
      "{0: 3, 1: 3, 2: 3, 3: 3, 4: 3}\n"
     ]
    }
   ],
   "source": [
    "x = {}\n",
    "for i in range(5):\n",
    "    for j in range(4):\n",
    "        x[i] =j\n",
    "print(x)"
   ]
  },
  {
   "cell_type": "code",
   "execution_count": 107,
   "id": "457a1bb1",
   "metadata": {},
   "outputs": [
    {
     "name": "stdout",
     "output_type": "stream",
     "text": [
      "16\n",
      "25\n",
      "9\n"
     ]
    }
   ],
   "source": [
    "x = {\n",
    "    'a':4,\n",
    "    'b':5,\n",
    "    'c':3\n",
    "}\n",
    "\n",
    "for i in x.values():\n",
    "    print(i)"
   ]
  },
  {
   "cell_type": "code",
   "execution_count": 12,
   "id": "8a5960c9",
   "metadata": {},
   "outputs": [
    {
     "name": "stdout",
     "output_type": "stream",
     "text": [
      "{2: 'a', 4: 'b', 6: 'c'}\n"
     ]
    }
   ],
   "source": [
    "x = {\n",
    "    'a':2,\n",
    "    'b':4,\n",
    "    'c':6\n",
    "\n",
    "}\n",
    "\n",
    "z ={}\n",
    "\n",
    "for i,k  in x.items():\n",
    "   z[k] = i\n",
    "print(z)"
   ]
  },
  {
   "cell_type": "code",
   "execution_count": 18,
   "id": "2e9b0227",
   "metadata": {},
   "outputs": [
    {
     "name": "stdout",
     "output_type": "stream",
     "text": [
      "{'a': {'xc': 201, 'fd': 30, 'ad': 21, 'tt': 300}, 'b': {'xc': 28, 'sa': 53, 'ac': 0}}\n",
      "53\n"
     ]
    }
   ],
   "source": [
    "x = {\n",
    "    'a':{\n",
    "        'xc':20,\n",
    "        'fd':30,\n",
    "        'ad':21\n",
    "    },\n",
    "\n",
    "    'b':{\n",
    "        'xc':28,\n",
    "        'sa':53,\n",
    "        'ac':00\n",
    "    }\n",
    "}\n",
    "\n",
    "x['a']['xc'] = 201\n",
    "x['a']['tt'] = 300\n",
    "print(x)\n",
    "print(x['b']['sa'])"
   ]
  },
  {
   "cell_type": "code",
   "execution_count": 29,
   "id": "5043b8d9",
   "metadata": {},
   "outputs": [
    {
     "name": "stdout",
     "output_type": "stream",
     "text": [
      "633\n"
     ]
    }
   ],
   "source": [
    "x = {\n",
    "    1:{\n",
    "        'a':45,\n",
    "        'b':46,\n",
    "        'c':47\n",
    "    },\n",
    "\n",
    "    120:633,\n",
    "    47:120,\n",
    "    'c':369\n",
    "}\n",
    "\n",
    "print(x[x[x[1]['c']]])"
   ]
  },
  {
   "cell_type": "code",
   "execution_count": null,
   "id": "d7e3b770",
   "metadata": {},
   "outputs": [],
   "source": []
  },
  {
   "cell_type": "code",
   "execution_count": null,
   "id": "bd494b8f",
   "metadata": {},
   "outputs": [],
   "source": []
  }
 ],
 "metadata": {
  "kernelspec": {
   "display_name": "Python 3 (ipykernel)",
   "language": "python",
   "name": "python3"
  },
  "language_info": {
   "codemirror_mode": {
    "name": "ipython",
    "version": 3
   },
   "file_extension": ".py",
   "mimetype": "text/x-python",
   "name": "python",
   "nbconvert_exporter": "python",
   "pygments_lexer": "ipython3",
   "version": "3.12.1"
  }
 },
 "nbformat": 4,
 "nbformat_minor": 5
}
