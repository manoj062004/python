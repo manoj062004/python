{
 "cells": [
  {
   "cell_type": "markdown",
   "id": "a4b7d161",
   "metadata": {},
   "source": [
    "## Arithmetic ope."
   ]
  },
  {
   "cell_type": "code",
   "execution_count": 1,
   "id": "17290b0f",
   "metadata": {},
   "outputs": [
    {
     "name": "stdout",
     "output_type": "stream",
     "text": [
      "20\n",
      "0\n",
      "100\n",
      "2.0\n",
      "2\n",
      "0\n",
      "5\n",
      "32\n"
     ]
    }
   ],
   "source": [
    "print(10 + 10)      # 20\n",
    "print(10 - 10)      # 0\n",
    "print(10 * 10)      # 100\n",
    "print(10 / 5)       # 2.0\n",
    "print(10 // 5)      # 2  # floor division\n",
    "print(10 % 5)       # 0  # mod\n",
    "print(5 % 10)       # 5\n",
    "print(2 ** 5)       # 32"
   ]
  },
  {
   "cell_type": "markdown",
   "id": "cb8790b5",
   "metadata": {},
   "source": [
    "## comparison/Relational op.\n"
   ]
  },
  {
   "cell_type": "code",
   "execution_count": 2,
   "id": "be927194",
   "metadata": {},
   "outputs": [
    {
     "name": "stdout",
     "output_type": "stream",
     "text": [
      "False\n",
      "False\n",
      "True\n",
      "True\n",
      "True\n",
      "False\n"
     ]
    }
   ],
   "source": [
    "print(10 > 10)     # False\n",
    "print(10 < 10)     # False\n",
    "print(10 >= 10)    # True\n",
    "print(10 <= 10)    # True\n",
    "print(10 == 10)    # True\n",
    "print(10 != 10)    # False"
   ]
  },
  {
   "cell_type": "markdown",
   "id": "a44a5059",
   "metadata": {},
   "source": [
    "## Logical Ope.\n",
    "- and ,or ,not"
   ]
  },
  {
   "cell_type": "code",
   "execution_count": 3,
   "id": "950574ef",
   "metadata": {},
   "outputs": [
    {
     "name": "stdout",
     "output_type": "stream",
     "text": [
      "True\n"
     ]
    }
   ],
   "source": [
    "print(10 > 5 and 20  < 30)"
   ]
  },
  {
   "cell_type": "code",
   "execution_count": 4,
   "id": "d020844b",
   "metadata": {},
   "outputs": [
    {
     "name": "stdout",
     "output_type": "stream",
     "text": [
      "True\n"
     ]
    }
   ],
   "source": [
    "print(10 > 5 or 20  > 30)"
   ]
  },
  {
   "cell_type": "code",
   "execution_count": 7,
   "id": "c3fea0a8",
   "metadata": {},
   "outputs": [
    {
     "name": "stdout",
     "output_type": "stream",
     "text": [
      "True\n"
     ]
    }
   ],
   "source": [
    "print(10 < 5 and 20  > 30 or 20  < 30 and 10 > 50)"
   ]
  },
  {
   "cell_type": "code",
   "execution_count": 8,
   "id": "fd081585",
   "metadata": {},
   "outputs": [
    {
     "name": "stdout",
     "output_type": "stream",
     "text": [
      "True\n"
     ]
    }
   ],
   "source": [
    "print(not( 10 < 5))"
   ]
  },
  {
   "cell_type": "markdown",
   "id": "3f3a2e91",
   "metadata": {},
   "source": [
    "## Bitwise oper.\n",
    "- &, | ,<<,>>"
   ]
  },
  {
   "cell_type": "code",
   "execution_count": 9,
   "id": "d3c8ecbe",
   "metadata": {},
   "outputs": [
    {
     "name": "stdout",
     "output_type": "stream",
     "text": [
      "16\n"
     ]
    }
   ],
   "source": [
    "print(20 & 50)"
   ]
  },
  {
   "cell_type": "code",
   "execution_count": 10,
   "id": "9792bdb1",
   "metadata": {},
   "outputs": [
    {
     "name": "stdout",
     "output_type": "stream",
     "text": [
      "20\n"
     ]
    }
   ],
   "source": [
    "print(20 & 54)"
   ]
  },
  {
   "cell_type": "code",
   "execution_count": 11,
   "id": "6b017790",
   "metadata": {},
   "outputs": [
    {
     "name": "stdout",
     "output_type": "stream",
     "text": [
      "54\n"
     ]
    }
   ],
   "source": [
    "print(20 | 54)"
   ]
  },
  {
   "cell_type": "code",
   "execution_count": 12,
   "id": "bf540e3a",
   "metadata": {},
   "outputs": [
    {
     "name": "stdout",
     "output_type": "stream",
     "text": [
      "144\n"
     ]
    }
   ],
   "source": [
    "print(36 << 2)"
   ]
  },
  {
   "cell_type": "code",
   "execution_count": 13,
   "id": "5665f3b7",
   "metadata": {},
   "outputs": [
    {
     "name": "stdout",
     "output_type": "stream",
     "text": [
      "16\n"
     ]
    }
   ],
   "source": [
    "print(4 << 2)"
   ]
  },
  {
   "cell_type": "code",
   "execution_count": 14,
   "id": "5f2cb304",
   "metadata": {},
   "outputs": [
    {
     "name": "stdout",
     "output_type": "stream",
     "text": [
      "1\n"
     ]
    }
   ],
   "source": [
    "print(5 >> 2)"
   ]
  },
  {
   "cell_type": "code",
   "execution_count": 16,
   "id": "9e4a2979",
   "metadata": {},
   "outputs": [
    {
     "name": "stdout",
     "output_type": "stream",
     "text": [
      "0.30000000000000004\n"
     ]
    }
   ],
   "source": [
    "# print(0.1 + 0.2 == 0.3)\n",
    "print(0.1+0.2)"
   ]
  },
  {
   "cell_type": "code",
   "execution_count": 17,
   "id": "4dddfd07",
   "metadata": {},
   "outputs": [
    {
     "name": "stdout",
     "output_type": "stream",
     "text": [
      "3\n"
     ]
    }
   ],
   "source": [
    "print(1+2)"
   ]
  },
  {
   "cell_type": "code",
   "execution_count": 18,
   "id": "2d11863b",
   "metadata": {},
   "outputs": [
    {
     "name": "stdout",
     "output_type": "stream",
     "text": [
      "-5\n"
     ]
    }
   ],
   "source": [
    "print(~4)"
   ]
  },
  {
   "cell_type": "code",
   "execution_count": 19,
   "id": "45e57836",
   "metadata": {},
   "outputs": [
    {
     "name": "stdout",
     "output_type": "stream",
     "text": [
      "4\n"
     ]
    }
   ],
   "source": [
    "print(~~4)"
   ]
  },
  {
   "cell_type": "code",
   "execution_count": 20,
   "id": "709e0ed2",
   "metadata": {},
   "outputs": [
    {
     "name": "stdout",
     "output_type": "stream",
     "text": [
      "-8\n"
     ]
    }
   ],
   "source": [
    "print(-4 & -5)"
   ]
  },
  {
   "cell_type": "code",
   "execution_count": null,
   "id": "a1cfed0b",
   "metadata": {},
   "outputs": [],
   "source": []
  }
 ],
 "metadata": {
  "kernelspec": {
   "display_name": "Python 3 (ipykernel)",
   "language": "python",
   "name": "python3"
  },
  "language_info": {
   "codemirror_mode": {
    "name": "ipython",
    "version": 3
   },
   "file_extension": ".py",
   "mimetype": "text/x-python",
   "name": "python",
   "nbconvert_exporter": "python",
   "pygments_lexer": "ipython3",
   "version": "3.11.5"
  }
 },
 "nbformat": 4,
 "nbformat_minor": 5
}
