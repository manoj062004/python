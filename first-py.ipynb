{
 "cells": [
  {
   "cell_type": "code",
   "execution_count": null,
   "id": "a1ece830",
   "metadata": {},
   "outputs": [],
   "source": [
    "print(\"jai shree ram\")"
   ]
  },
  {
   "cell_type": "markdown",
   "id": "6a377798",
   "metadata": {},
   "source": [
    "#strings\n"
   ]
  },
  {
   "cell_type": "code",
   "execution_count": 4,
   "id": "1b009e17",
   "metadata": {},
   "outputs": [
    {
     "name": "stdout",
     "output_type": "stream",
     "text": [
      "jai shree ram\n"
     ]
    }
   ],
   "source": [
    "print(\"jai shree ram\")"
   ]
  },
  {
   "cell_type": "code",
   "execution_count": 6,
   "id": "1c520d0a",
   "metadata": {},
   "outputs": [
    {
     "name": "stdout",
     "output_type": "stream",
     "text": [
      "HEY HELLO WORLD HOW ARE YOU\n",
      "hey hello world how are you\n",
      "Hey hello world how are you\n",
      "Hey Hello World How Are You\n"
     ]
    }
   ],
   "source": [
    "c = \"hey hello world how are you\"\n",
    "print(c.upper())\n",
    "print(c.lower())\n",
    "print(c.capitalize())\n",
    "print(c.title())"
   ]
  },
  {
   "cell_type": "code",
   "execution_count": 10,
   "id": "4a90e9e2",
   "metadata": {},
   "outputs": [
    {
     "name": "stdout",
     "output_type": "stream",
     "text": [
      "False\n",
      "False\n",
      "True\n",
      "False\n",
      "True\n"
     ]
    }
   ],
   "source": [
    "c = \"7894561\"\n",
    "print(c.isupper())\n",
    "print(c.islower())\n",
    "print(c.isdigit())\n",
    "print(c.isalpha())\n",
    "print(c.isalnum())"
   ]
  },
  {
   "cell_type": "code",
   "execution_count": 40,
   "id": "204a6309",
   "metadata": {},
   "outputs": [
    {
     "name": "stdout",
     "output_type": "stream",
     "text": [
      "14\n",
      "2\n"
     ]
    }
   ],
   "source": [
    "c = \"hii ia am fine\"\n",
    "print(len(c))\n",
    "print(c.count(\"a\"))"
   ]
  },
  {
   "cell_type": "code",
   "execution_count": 18,
   "id": "80b6d305",
   "metadata": {
    "scrolled": true
   },
   "outputs": [
    {
     "name": "stdout",
     "output_type": "stream",
     "text": [
      "h\n",
      "u\n"
     ]
    }
   ],
   "source": [
    "#indexing\n",
    "x = \"hii hello how are you\"\n",
    "print(x[0])\n",
    "print(x[-1])"
   ]
  },
  {
   "cell_type": "code",
   "execution_count": 1,
   "id": "0a6db62b",
   "metadata": {
    "scrolled": true
   },
   "outputs": [
    {
     "name": "stdout",
     "output_type": "stream",
     "text": [
      "india \n",
      "idai ycnay\n"
     ]
    }
   ],
   "source": [
    "#slicing\n",
    "\n",
    "a = \"india is my contary\"\n",
    "print(a[0:6])                         #syantax  a[start-point:end-point]\n",
    "\n",
    "print(a[::2])                  # if we want a print in afer one word next word print use this funtion   syntax x[srart_point:end point : skip-point]"
   ]
  },
  {
   "cell_type": "code",
   "execution_count": 27,
   "id": "1d7195b9",
   "metadata": {},
   "outputs": [
    {
     "name": "stdout",
     "output_type": "stream",
     "text": [
      "u\n"
     ]
    }
   ],
   "source": [
    "x = \"hello how are you\"\n",
    "print(x[-1])"
   ]
  },
  {
   "cell_type": "code",
   "execution_count": 37,
   "id": "a6f8afaa",
   "metadata": {},
   "outputs": [
    {
     "name": "stdout",
     "output_type": "stream",
     "text": [
      "uoy tuoba stahw uoy era woh iih\n",
      "['hii', 'how', 'are', 'you', 'whats', 'about', 'you']\n"
     ]
    }
   ],
   "source": [
    "#reverse string\n",
    "\n",
    "b = \"hii how are you whats about you\"\n",
    "print(b[ : :-1])\n",
    "print(b.split())"
   ]
  },
  {
   "cell_type": "code",
   "execution_count": 11,
   "id": "311349bb",
   "metadata": {},
   "outputs": [
    {
     "name": "stdout",
     "output_type": "stream",
     "text": [
      "ny nane is nanoj yadav\n",
      "hy nahe is manoj yadav\n",
      "wsey wsow are you\n"
     ]
    }
   ],
   "source": [
    "##string replace method \n",
    "\n",
    "x = \"my name is manoj yadav\"\n",
    "print(x.replace(\"m\",\"n\"))     #syntax x.replace(\"change_name,change_content\")\n",
    "\n",
    "\n",
    "print(x.replace(\"m\",\"h\",2))\n",
    "\n",
    "r = \"hey how are you\"\n",
    "print(r.replace(\"h\",\"ws\"))"
   ]
  },
  {
   "cell_type": "code",
   "execution_count": 27,
   "id": "ab65cf63",
   "metadata": {},
   "outputs": [
    {
     "name": "stdout",
     "output_type": "stream",
     "text": [
      "0\n",
      "4\n",
      "4\n"
     ]
    }
   ],
   "source": [
    "#how to cheak index in string \n",
    "x = \"hii how are you\"\n",
    "print(x.index(\"h\"))\n",
    "print(x.rindex(\"h\"))\n",
    "\n",
    "y = \"hii how are you\"\n",
    "print(y.index(\"h\",1))\n"
   ]
  },
  {
   "cell_type": "markdown",
   "id": "5dcad4a3",
   "metadata": {},
   "source": [
    "# opretors"
   ]
  },
  {
   "cell_type": "code",
   "execution_count": 10,
   "id": "020eea42",
   "metadata": {},
   "outputs": [
    {
     "name": "stdout",
     "output_type": "stream",
     "text": [
      "20\n",
      "0\n",
      "100\n",
      "0.4\n",
      "0\n",
      "0\n",
      "4\n"
     ]
    }
   ],
   "source": [
    "\n",
    "print(10+10)\n",
    "print(10-10)\n",
    "print(10*10)\n",
    "print(2 / 5)\n",
    "print(2 // 5)\n",
    "print(8 % 2)\n",
    "print(2 ** 2)"
   ]
  },
  {
   "cell_type": "markdown",
   "id": "97299810",
   "metadata": {},
   "source": [
    "# comparison opretors. / relation opretors"
   ]
  },
  {
   "cell_type": "code",
   "execution_count": 15,
   "id": "d910466a",
   "metadata": {},
   "outputs": [
    {
     "name": "stdout",
     "output_type": "stream",
     "text": [
      "True\n",
      "True\n",
      "True\n",
      "True\n",
      "True\n",
      "False\n"
     ]
    }
   ],
   "source": [
    "print(10>5)\n",
    "print(10 < 15)\n",
    "print(5<=5)\n",
    "print(5>=5)\n",
    "print(20 == 20)\n",
    "print(10 != 10)"
   ]
  },
  {
   "cell_type": "markdown",
   "id": "48a276f2",
   "metadata": {},
   "source": [
    "# logical opretors"
   ]
  },
  {
   "cell_type": "code",
   "execution_count": 22,
   "id": "f9aa8a97",
   "metadata": {
    "collapsed": true
   },
   "outputs": [
    {
     "name": "stdout",
     "output_type": "stream",
     "text": [
      "True True\n"
     ]
    }
   ],
   "source": [
    "c = 10 > 5 and 20 < 25\n",
    "d = 2 < 1 or  50 > 10\n",
    "\n",
    "\n",
    "\n",
    "print(c,d)"
   ]
  },
  {
   "cell_type": "code",
   "execution_count": 29,
   "id": "965ae1c1",
   "metadata": {},
   "outputs": [
    {
     "name": "stdout",
     "output_type": "stream",
     "text": [
      "True\n",
      "True True\n"
     ]
    }
   ],
   "source": [
    "n = 10 > 5 and 20 < 15 or 21 < 25\n",
    "b = 20 < 30 or 30 > 50 and 40 > 50\n",
    "print(not(10 > 15))\n",
    "\n",
    "print(n,b)"
   ]
  },
  {
   "cell_type": "markdown",
   "id": "83691262",
   "metadata": {},
   "source": [
    "# bitwise opretors\n",
    "\n",
    "### & , | , << , >>"
   ]
  },
  {
   "cell_type": "code",
   "execution_count": 30,
   "id": "4c883803",
   "metadata": {},
   "outputs": [
    {
     "name": "stdout",
     "output_type": "stream",
     "text": [
      "8\n"
     ]
    }
   ],
   "source": [
    "print(30&40)"
   ]
  },
  {
   "cell_type": "code",
   "execution_count": 31,
   "id": "bec09586",
   "metadata": {},
   "outputs": [
    {
     "name": "stdout",
     "output_type": "stream",
     "text": [
      "60\n"
     ]
    }
   ],
   "source": [
    "print(40|20)"
   ]
  },
  {
   "cell_type": "code",
   "execution_count": 32,
   "id": "5d23411d",
   "metadata": {},
   "outputs": [
    {
     "name": "stdout",
     "output_type": "stream",
     "text": [
      "30\n"
     ]
    }
   ],
   "source": [
    "print(30|20)"
   ]
  },
  {
   "cell_type": "code",
   "execution_count": 33,
   "id": "541c92ae",
   "metadata": {},
   "outputs": [
    {
     "name": "stdout",
     "output_type": "stream",
     "text": [
      "80\n"
     ]
    }
   ],
   "source": [
    "print(20<<2)"
   ]
  },
  {
   "cell_type": "code",
   "execution_count": 34,
   "id": "cf7f5a34",
   "metadata": {},
   "outputs": [
    {
     "name": "stdout",
     "output_type": "stream",
     "text": [
      "5\n"
     ]
    }
   ],
   "source": [
    "print(20>>2)"
   ]
  },
  {
   "cell_type": "code",
   "execution_count": 36,
   "id": "f3148be8",
   "metadata": {},
   "outputs": [
    {
     "name": "stdout",
     "output_type": "stream",
     "text": [
      "4\n"
     ]
    }
   ],
   "source": [
    "print(~~4)"
   ]
  },
  {
   "cell_type": "code",
   "execution_count": null,
   "id": "c589ef91",
   "metadata": {},
   "outputs": [],
   "source": []
  }
 ],
 "metadata": {
  "kernelspec": {
   "display_name": "Python 3 (ipykernel)",
   "language": "python",
   "name": "python3"
  },
  "language_info": {
   "codemirror_mode": {
    "name": "ipython",
    "version": 3
   },
   "file_extension": ".py",
   "mimetype": "text/x-python",
   "name": "python",
   "nbconvert_exporter": "python",
   "pygments_lexer": "ipython3",
   "version": "3.11.5"
  }
 },
 "nbformat": 4,
 "nbformat_minor": 5
}
