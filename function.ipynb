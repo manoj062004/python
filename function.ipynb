{
 "cells": [
  {
   "cell_type": "markdown",
   "metadata": {},
   "source": [
    "# function\n",
    "- it is a piece of code of bolck "
   ]
  },
  {
   "cell_type": "code",
   "execution_count": 4,
   "metadata": {},
   "outputs": [
    {
     "name": "stdout",
     "output_type": "stream",
     "text": [
      "jai shree ram\n",
      "jai shree ram\n",
      "jai shree ram\n",
      "jai shree ram\n",
      "jai shree ram\n"
     ]
    }
   ],
   "source": [
    "def abc():   # it is a defination of function\n",
    "    print(\"jai shree ram\")\n",
    "\n",
    "abc()    #calling function\n",
    "abc()\n",
    "abc()\n",
    "abc()\n",
    "abc()"
   ]
  },
  {
   "cell_type": "code",
   "execution_count": 18,
   "metadata": {},
   "outputs": [
    {
     "name": "stdout",
     "output_type": "stream",
     "text": [
      "242\n"
     ]
    }
   ],
   "source": [
    "def abc(x,y,z):   #formal arguments\n",
    "   n = x + y * z\n",
    "   print(n)\n",
    "   \n",
    "\n",
    "abc(2,4,60)  # actual arguments\n"
   ]
  },
  {
   "cell_type": "code",
   "execution_count": 28,
   "metadata": {},
   "outputs": [
    {
     "name": "stdout",
     "output_type": "stream",
     "text": [
      "800\n",
      "50\n",
      "800\n"
     ]
    }
   ],
   "source": [
    "x = 50\n",
    "y = 10\n",
    "\n",
    "def ddd():\n",
    "   x = 200\n",
    "   y = 600\n",
    "   global z\n",
    "   z =  x + y\n",
    "   print(z)\n",
    "\n",
    "ddd()\n",
    "\n",
    "print(x)\n",
    "print(z)"
   ]
  },
  {
   "cell_type": "code",
   "execution_count": 59,
   "metadata": {},
   "outputs": [
    {
     "name": "stdout",
     "output_type": "stream",
     "text": [
      "{'a': 20}\n",
      "(1, 2, 5464, 654, 654, 64, 65, 465, 4, 654)\n"
     ]
    }
   ],
   "source": [
    "#*args  and **kwargs\n",
    "\n",
    "def vvx(*b,**a):\n",
    "    print(a)\n",
    "    print(b) \n",
    "\n",
    "\n",
    "vvx(1,2,5464,654,654,64,65,465,4,654, a = 20)"
   ]
  },
  {
   "cell_type": "code",
   "execution_count": null,
   "metadata": {},
   "outputs": [],
   "source": []
  }
 ],
 "metadata": {
  "kernelspec": {
   "display_name": "Python 3",
   "language": "python",
   "name": "python3"
  },
  "language_info": {
   "codemirror_mode": {
    "name": "ipython",
    "version": 3
   },
   "file_extension": ".py",
   "mimetype": "text/x-python",
   "name": "python",
   "nbconvert_exporter": "python",
   "pygments_lexer": "ipython3",
   "version": "3.12.1"
  }
 },
 "nbformat": 4,
 "nbformat_minor": 2
}
