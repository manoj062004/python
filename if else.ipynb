{
 "cells": [
  {
   "cell_type": "code",
   "execution_count": 1,
   "id": "28366b0a",
   "metadata": {},
   "outputs": [
    {
     "name": "stdout",
     "output_type": "stream",
     "text": [
      "no\n"
     ]
    }
   ],
   "source": [
    "if(10 > 15):\n",
    "    print(\"yes\")\n",
    "else:\n",
    "    print(\"no\")"
   ]
  },
  {
   "cell_type": "code",
   "execution_count": 2,
   "id": "ce018c87",
   "metadata": {},
   "outputs": [
    {
     "name": "stdout",
     "output_type": "stream",
     "text": [
      "one\n",
      "True\n",
      "true\n"
     ]
    }
   ],
   "source": [
    "if(1):\n",
    "    print(\"one\")\n",
    "    \n",
    "\n",
    "if(0):\n",
    "    print(\"zero\")\n",
    "    \n",
    "if(None):\n",
    "    print(\"None\")\n",
    "    \n",
    "if(True):\n",
    "    print(\"True\")\n",
    "    \n",
    "if(False):\n",
    "    print(\"False\")\n",
    "    \n",
    "if(-10):\n",
    "    print(\"true\")"
   ]
  },
  {
   "cell_type": "code",
   "execution_count": 3,
   "id": "f886cd33",
   "metadata": {},
   "outputs": [
    {
     "name": "stdout",
     "output_type": "stream",
     "text": [
      "False\n"
     ]
    }
   ],
   "source": [
    "print(bool(0))"
   ]
  },
  {
   "cell_type": "code",
   "execution_count": 4,
   "id": "94d9567c",
   "metadata": {},
   "outputs": [
    {
     "name": "stdout",
     "output_type": "stream",
     "text": [
      "two\n"
     ]
    }
   ],
   "source": [
    "if(10 < 5):\n",
    "    print(\"one\")\n",
    "elif(25<135):\n",
    "    print(\"two\")\n",
    "elif(10>5):\n",
    "    print(\"three\")\n",
    "else:\n",
    "    print(\"last\")"
   ]
  },
  {
   "cell_type": "code",
   "execution_count": null,
   "id": "6da51890",
   "metadata": {},
   "outputs": [],
   "source": [
    "#who is the positive and nagtive number\n",
    "\n",
    "x = int(input(\"Enter you number : \"))\n",
    "\n",
    "if(x>0):\n",
    "    print(x,\"is a positive number\")\n",
    "else:\n",
    "    print(x,\"is a nagative number\")"
   ]
  },
  {
   "cell_type": "code",
   "execution_count": null,
   "id": "ac6a7ca8",
   "metadata": {},
   "outputs": [],
   "source": [
    "#who is the greater and samllest number\n",
    "\n",
    "\n",
    "x = int(input(\"enter you first No : \"));\n",
    "y = int(input(\"enter you second No : \"))\n",
    "\n",
    "if(x>y):\n",
    "    print(x,\"is a grater than\",y)\n",
    "else:\n",
    "    print(y,\"is grater than\",x)"
   ]
  },
  {
   "cell_type": "code",
   "execution_count": null,
   "id": "f36ff187",
   "metadata": {},
   "outputs": [],
   "source": [
    "#how to cheak you persentage\n",
    "\n",
    "\n",
    "x=float(input(\"enter you percentage : \"))\n",
    "\n",
    "if(x>100):\n",
    "    print(\"invalid value\")\n",
    "elif(x==100):\n",
    "    print(\"your are topper\")\n",
    "elif(x>=80):\n",
    "    print(\"you are a first divison\")\n",
    "elif(x>=60):\n",
    "    print(\"you are a second divison\")\n",
    "elif(x>40):\n",
    "    print(\"you are a third divison\")\n",
    "else:\n",
    "    print(\"sorry you are fail\")"
   ]
  },
  {
   "cell_type": "code",
   "execution_count": null,
   "id": "b607e945",
   "metadata": {},
   "outputs": [],
   "source": [
    "#who is the number of divisebel by 3 and 5\n",
    "\n",
    "x = int(input(\"enter Your Number : \"))\n",
    "\n",
    "if(x % 3==0 and x % 5 ==0):\n",
    "    print(\"both divsibel\")\n",
    "elif(x % 3 ==0):\n",
    "    print(\"yes\")\n",
    "elif(x % 2 == 0):\n",
    "    print(\"no\")\n"
   ]
  },
  {
   "cell_type": "code",
   "execution_count": null,
   "id": "c27f13ab",
   "metadata": {
    "scrolled": true
   },
   "outputs": [],
   "source": [
    "#cheak triangel name \n",
    "\n",
    "x = int(input(\"enter Your 1st value... : \"))\n",
    "y = int(input(\"enter Your 2nd value... : \"))\n",
    "z = int(input(\"enter Your 3rd value... : \"))\n",
    "\n",
    "if(x==y and y==z and z==x):\n",
    "    print(\"this is eqlaterl\")\n",
    "elif(x==y or y==z and z==x):\n",
    "    print(\"this is isolate triangel\")\n",
    "else:\n",
    "    print(\"sclaer trinangel\")"
   ]
  },
  {
   "cell_type": "code",
   "execution_count": null,
   "id": "e4710004",
   "metadata": {},
   "outputs": [],
   "source": [
    "x = int(input(\"enter you number...\"))\n",
    "y = float(input(\"enter you number...\"))\n",
    "z = int(input(\"enter you number...\"))\n",
    "\n"
   ]
  },
  {
   "cell_type": "code",
   "execution_count": null,
   "id": "bcd2a372",
   "metadata": {},
   "outputs": [],
   "source": [
    "#cheak unit charge\n",
    "\n",
    "x = int(input(\"Enter Your Units....\"))\n",
    "\n",
    "if(x<=100):\n",
    "    print(\"free no charge\")\n",
    "elif(x<=200):\n",
    "    print(\"per unit 5 rs charge\")\n",
    "elif(x>200):\n",
    "    print(\"per unit 10 rs charge\")"
   ]
  },
  {
   "cell_type": "code",
   "execution_count": null,
   "id": "ce00485f",
   "metadata": {},
   "outputs": [],
   "source": [
    "x = \"hello\"\n",
    "\n",
    "for i in range(0,len(x)):\n",
    "    print(i)\n",
    "    \n",
    "    \n",
    "   \n",
    "for i in range(1):\n",
    "    print(i*5,)"
   ]
  },
  {
   "cell_type": "code",
   "execution_count": null,
   "id": "64cd1c70",
   "metadata": {},
   "outputs": [],
   "source": [
    "i = 0\n",
    "while i <= 10:\n",
    "    if i == 5:\n",
    "        break\n",
    "        print(i)\n",
    "        i += 1\n"
   ]
  },
  {
   "cell_type": "code",
   "execution_count": 26,
   "id": "e4b1da50",
   "metadata": {},
   "outputs": [
    {
     "name": "stdout",
     "output_type": "stream",
     "text": [
      "Enter Your number : 1234\n",
      "0\n"
     ]
    }
   ],
   "source": [
    "a = int(input(\"Enter Your number : \"))\n",
    "b = 0\n",
    "for i in range(1):\n",
    "    b = b+i\n",
    "    print(b)"
   ]
  },
  {
   "cell_type": "code",
   "execution_count": null,
   "id": "9bc0744d",
   "metadata": {},
   "outputs": [],
   "source": []
  }
 ],
 "metadata": {
  "kernelspec": {
   "display_name": "Python 3 (ipykernel)",
   "language": "python",
   "name": "python3"
  },
  "language_info": {
   "codemirror_mode": {
    "name": "ipython",
    "version": 3
   },
   "file_extension": ".py",
   "mimetype": "text/x-python",
   "name": "python",
   "nbconvert_exporter": "python",
   "pygments_lexer": "ipython3",
   "version": "3.11.5"
  }
 },
 "nbformat": 4,
 "nbformat_minor": 5
}
